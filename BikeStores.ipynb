{
 "cells": [
  {
   "cell_type": "markdown",
   "metadata": {},
   "source": [
    "## Import Library"
   ]
  },
  {
   "cell_type": "code",
   "execution_count": 116,
   "metadata": {},
   "outputs": [],
   "source": [
    "import numpy as np\n",
    "import pandas as pd\n",
    "import datetime\n",
    "\n",
    "import matplotlib.pyplot as plt\n",
    "import seaborn as sns"
   ]
  },
  {
   "cell_type": "markdown",
   "metadata": {},
   "source": [
    "## Read dataset"
   ]
  },
  {
   "cell_type": "code",
   "execution_count": 117,
   "metadata": {},
   "outputs": [
    {
     "data": {
      "text/html": [
       "<div>\n",
       "<style scoped>\n",
       "    .dataframe tbody tr th:only-of-type {\n",
       "        vertical-align: middle;\n",
       "    }\n",
       "\n",
       "    .dataframe tbody tr th {\n",
       "        vertical-align: top;\n",
       "    }\n",
       "\n",
       "    .dataframe thead th {\n",
       "        text-align: right;\n",
       "    }\n",
       "</style>\n",
       "<table border=\"1\" class=\"dataframe\">\n",
       "  <thead>\n",
       "    <tr style=\"text-align: right;\">\n",
       "      <th></th>\n",
       "      <th>order_id</th>\n",
       "      <th>customers</th>\n",
       "      <th>city</th>\n",
       "      <th>state</th>\n",
       "      <th>order_date</th>\n",
       "      <th>total_units</th>\n",
       "      <th>revenue</th>\n",
       "      <th>product_name</th>\n",
       "      <th>category_name</th>\n",
       "      <th>brand_name</th>\n",
       "      <th>store_name</th>\n",
       "      <th>sales_rep</th>\n",
       "    </tr>\n",
       "  </thead>\n",
       "  <tbody>\n",
       "    <tr>\n",
       "      <th>0</th>\n",
       "      <td>1</td>\n",
       "      <td>Johnathan Velazquez</td>\n",
       "      <td>Pleasanton</td>\n",
       "      <td>CA</td>\n",
       "      <td>1/1/2016</td>\n",
       "      <td>2</td>\n",
       "      <td>1199.98</td>\n",
       "      <td>Electra Townie Original 7D EQ - 2016</td>\n",
       "      <td>Cruisers Bicycles</td>\n",
       "      <td>Electra</td>\n",
       "      <td>Santa Cruz Bikes</td>\n",
       "      <td>Mireya Copeland</td>\n",
       "    </tr>\n",
       "    <tr>\n",
       "      <th>1</th>\n",
       "      <td>1</td>\n",
       "      <td>Johnathan Velazquez</td>\n",
       "      <td>Pleasanton</td>\n",
       "      <td>CA</td>\n",
       "      <td>1/1/2016</td>\n",
       "      <td>1</td>\n",
       "      <td>599.99</td>\n",
       "      <td>Electra Townie Original 7D EQ - Women's - 2016</td>\n",
       "      <td>Cruisers Bicycles</td>\n",
       "      <td>Electra</td>\n",
       "      <td>Santa Cruz Bikes</td>\n",
       "      <td>Mireya Copeland</td>\n",
       "    </tr>\n",
       "    <tr>\n",
       "      <th>2</th>\n",
       "      <td>1</td>\n",
       "      <td>Johnathan Velazquez</td>\n",
       "      <td>Pleasanton</td>\n",
       "      <td>CA</td>\n",
       "      <td>1/1/2016</td>\n",
       "      <td>2</td>\n",
       "      <td>3098.00</td>\n",
       "      <td>Surly Straggler - 2016</td>\n",
       "      <td>Cyclocross Bicycles</td>\n",
       "      <td>Surly</td>\n",
       "      <td>Santa Cruz Bikes</td>\n",
       "      <td>Mireya Copeland</td>\n",
       "    </tr>\n",
       "    <tr>\n",
       "      <th>3</th>\n",
       "      <td>1</td>\n",
       "      <td>Johnathan Velazquez</td>\n",
       "      <td>Pleasanton</td>\n",
       "      <td>CA</td>\n",
       "      <td>1/1/2016</td>\n",
       "      <td>1</td>\n",
       "      <td>2899.99</td>\n",
       "      <td>Trek Fuel EX 8 29 - 2016</td>\n",
       "      <td>Mountain Bikes</td>\n",
       "      <td>Trek</td>\n",
       "      <td>Santa Cruz Bikes</td>\n",
       "      <td>Mireya Copeland</td>\n",
       "    </tr>\n",
       "    <tr>\n",
       "      <th>4</th>\n",
       "      <td>1</td>\n",
       "      <td>Johnathan Velazquez</td>\n",
       "      <td>Pleasanton</td>\n",
       "      <td>CA</td>\n",
       "      <td>1/1/2016</td>\n",
       "      <td>2</td>\n",
       "      <td>3599.98</td>\n",
       "      <td>Trek Remedy 29 Carbon Frameset - 2016</td>\n",
       "      <td>Mountain Bikes</td>\n",
       "      <td>Trek</td>\n",
       "      <td>Santa Cruz Bikes</td>\n",
       "      <td>Mireya Copeland</td>\n",
       "    </tr>\n",
       "  </tbody>\n",
       "</table>\n",
       "</div>"
      ],
      "text/plain": [
       "   order_id            customers        city state order_date  total_units  \\\n",
       "0         1  Johnathan Velazquez  Pleasanton    CA   1/1/2016            2   \n",
       "1         1  Johnathan Velazquez  Pleasanton    CA   1/1/2016            1   \n",
       "2         1  Johnathan Velazquez  Pleasanton    CA   1/1/2016            2   \n",
       "3         1  Johnathan Velazquez  Pleasanton    CA   1/1/2016            1   \n",
       "4         1  Johnathan Velazquez  Pleasanton    CA   1/1/2016            2   \n",
       "\n",
       "   revenue                                    product_name  \\\n",
       "0  1199.98            Electra Townie Original 7D EQ - 2016   \n",
       "1   599.99  Electra Townie Original 7D EQ - Women's - 2016   \n",
       "2  3098.00                          Surly Straggler - 2016   \n",
       "3  2899.99                        Trek Fuel EX 8 29 - 2016   \n",
       "4  3599.98           Trek Remedy 29 Carbon Frameset - 2016   \n",
       "\n",
       "         category_name brand_name        store_name        sales_rep  \n",
       "0    Cruisers Bicycles    Electra  Santa Cruz Bikes  Mireya Copeland  \n",
       "1    Cruisers Bicycles    Electra  Santa Cruz Bikes  Mireya Copeland  \n",
       "2  Cyclocross Bicycles      Surly  Santa Cruz Bikes  Mireya Copeland  \n",
       "3       Mountain Bikes       Trek  Santa Cruz Bikes  Mireya Copeland  \n",
       "4       Mountain Bikes       Trek  Santa Cruz Bikes  Mireya Copeland  "
      ]
     },
     "execution_count": 117,
     "metadata": {},
     "output_type": "execute_result"
    }
   ],
   "source": [
    "df = pd.read_csv('data.csv')\n",
    "df.head()"
   ]
  },
  {
   "cell_type": "markdown",
   "metadata": {},
   "source": [
    "##  Data Dictionary & Data Quality Assessment"
   ]
  },
  {
   "cell_type": "markdown",
   "metadata": {},
   "source": [
    "### About data"
   ]
  },
  {
   "cell_type": "code",
   "execution_count": 118,
   "metadata": {},
   "outputs": [
    {
     "name": "stdout",
     "output_type": "stream",
     "text": [
      "<class 'pandas.core.frame.DataFrame'>\n",
      "RangeIndex: 4707 entries, 0 to 4706\n",
      "Data columns (total 12 columns):\n",
      " #   Column         Non-Null Count  Dtype  \n",
      "---  ------         --------------  -----  \n",
      " 0   order_id       4707 non-null   int64  \n",
      " 1   customers      4707 non-null   object \n",
      " 2   city           4707 non-null   object \n",
      " 3   state          4707 non-null   object \n",
      " 4   order_date     4707 non-null   object \n",
      " 5   total_units    4707 non-null   int64  \n",
      " 6   revenue        4707 non-null   float64\n",
      " 7   product_name   4707 non-null   object \n",
      " 8   category_name  4707 non-null   object \n",
      " 9   brand_name     4707 non-null   object \n",
      " 10  store_name     4707 non-null   object \n",
      " 11  sales_rep      4707 non-null   object \n",
      "dtypes: float64(1), int64(2), object(9)\n",
      "memory usage: 441.4+ KB\n"
     ]
    }
   ],
   "source": [
    "df.info()"
   ]
  },
  {
   "cell_type": "code",
   "execution_count": 119,
   "metadata": {},
   "outputs": [
    {
     "data": {
      "text/html": [
       "<div>\n",
       "<style scoped>\n",
       "    .dataframe tbody tr th:only-of-type {\n",
       "        vertical-align: middle;\n",
       "    }\n",
       "\n",
       "    .dataframe tbody tr th {\n",
       "        vertical-align: top;\n",
       "    }\n",
       "\n",
       "    .dataframe thead th {\n",
       "        text-align: right;\n",
       "    }\n",
       "</style>\n",
       "<table border=\"1\" class=\"dataframe\">\n",
       "  <thead>\n",
       "    <tr style=\"text-align: right;\">\n",
       "      <th></th>\n",
       "      <th>order_id</th>\n",
       "      <th>total_units</th>\n",
       "      <th>revenue</th>\n",
       "    </tr>\n",
       "  </thead>\n",
       "  <tbody>\n",
       "    <tr>\n",
       "      <th>count</th>\n",
       "      <td>4707.000000</td>\n",
       "      <td>4707.000000</td>\n",
       "      <td>4707.000000</td>\n",
       "    </tr>\n",
       "    <tr>\n",
       "      <th>mean</th>\n",
       "      <td>820.016996</td>\n",
       "      <td>1.498619</td>\n",
       "      <td>1821.837502</td>\n",
       "    </tr>\n",
       "    <tr>\n",
       "      <th>std</th>\n",
       "      <td>465.142301</td>\n",
       "      <td>0.500051</td>\n",
       "      <td>2229.923391</td>\n",
       "    </tr>\n",
       "    <tr>\n",
       "      <th>min</th>\n",
       "      <td>1.000000</td>\n",
       "      <td>1.000000</td>\n",
       "      <td>89.990000</td>\n",
       "    </tr>\n",
       "    <tr>\n",
       "      <th>25%</th>\n",
       "      <td>422.500000</td>\n",
       "      <td>1.000000</td>\n",
       "      <td>539.980000</td>\n",
       "    </tr>\n",
       "    <tr>\n",
       "      <th>50%</th>\n",
       "      <td>827.000000</td>\n",
       "      <td>1.000000</td>\n",
       "      <td>939.980000</td>\n",
       "    </tr>\n",
       "    <tr>\n",
       "      <th>75%</th>\n",
       "      <td>1225.000000</td>\n",
       "      <td>2.000000</td>\n",
       "      <td>1999.980000</td>\n",
       "    </tr>\n",
       "    <tr>\n",
       "      <th>max</th>\n",
       "      <td>1615.000000</td>\n",
       "      <td>2.000000</td>\n",
       "      <td>23999.980000</td>\n",
       "    </tr>\n",
       "  </tbody>\n",
       "</table>\n",
       "</div>"
      ],
      "text/plain": [
       "          order_id  total_units       revenue\n",
       "count  4707.000000  4707.000000   4707.000000\n",
       "mean    820.016996     1.498619   1821.837502\n",
       "std     465.142301     0.500051   2229.923391\n",
       "min       1.000000     1.000000     89.990000\n",
       "25%     422.500000     1.000000    539.980000\n",
       "50%     827.000000     1.000000    939.980000\n",
       "75%    1225.000000     2.000000   1999.980000\n",
       "max    1615.000000     2.000000  23999.980000"
      ]
     },
     "execution_count": 119,
     "metadata": {},
     "output_type": "execute_result"
    }
   ],
   "source": [
    "df.describe()"
   ]
  },
  {
   "cell_type": "code",
   "execution_count": 120,
   "metadata": {},
   "outputs": [
    {
     "data": {
      "text/plain": [
       "order_id         1615\n",
       "customers        1444\n",
       "city              195\n",
       "state               3\n",
       "order_date        725\n",
       "total_units         2\n",
       "revenue           200\n",
       "product_name      277\n",
       "category_name       7\n",
       "brand_name          9\n",
       "store_name          3\n",
       "sales_rep           6\n",
       "dtype: int64"
      ]
     },
     "execution_count": 120,
     "metadata": {},
     "output_type": "execute_result"
    }
   ],
   "source": [
    "df.nunique()"
   ]
  },
  {
   "cell_type": "markdown",
   "metadata": {},
   "source": [
    "### Convert data"
   ]
  },
  {
   "cell_type": "code",
   "execution_count": 121,
   "metadata": {},
   "outputs": [
    {
     "name": "stdout",
     "output_type": "stream",
     "text": [
      "<class 'pandas.core.frame.DataFrame'>\n",
      "RangeIndex: 4707 entries, 0 to 4706\n",
      "Data columns (total 13 columns):\n",
      " #   Column         Non-Null Count  Dtype         \n",
      "---  ------         --------------  -----         \n",
      " 0   order_id       4707 non-null   int64         \n",
      " 1   customers      4707 non-null   object        \n",
      " 2   city           4707 non-null   object        \n",
      " 3   state          4707 non-null   object        \n",
      " 4   order_date     4707 non-null   datetime64[ns]\n",
      " 5   total_units    4707 non-null   int64         \n",
      " 6   revenue        4707 non-null   float64       \n",
      " 7   product_name   4707 non-null   object        \n",
      " 8   category_name  4707 non-null   object        \n",
      " 9   brand_name     4707 non-null   object        \n",
      " 10  store_name     4707 non-null   object        \n",
      " 11  sales_rep      4707 non-null   object        \n",
      " 12  year           4707 non-null   int32         \n",
      "dtypes: datetime64[ns](1), float64(1), int32(1), int64(2), object(8)\n",
      "memory usage: 459.8+ KB\n"
     ]
    }
   ],
   "source": [
    "df['order_date'] = pd.to_datetime(df['order_date'])\n",
    "df['year'] = df['order_date'].dt.year\n",
    "df.info()"
   ]
  },
  {
   "cell_type": "markdown",
   "metadata": {},
   "source": [
    "###  Check duplicate values"
   ]
  },
  {
   "cell_type": "code",
   "execution_count": 122,
   "metadata": {},
   "outputs": [
    {
     "name": "stdout",
     "output_type": "stream",
     "text": [
      "<class 'pandas.core.frame.DataFrame'>\n",
      "RangeIndex: 4707 entries, 0 to 4706\n",
      "Data columns (total 13 columns):\n",
      " #   Column         Non-Null Count  Dtype         \n",
      "---  ------         --------------  -----         \n",
      " 0   order_id       4707 non-null   int64         \n",
      " 1   customers      4707 non-null   object        \n",
      " 2   city           4707 non-null   object        \n",
      " 3   state          4707 non-null   object        \n",
      " 4   order_date     4707 non-null   datetime64[ns]\n",
      " 5   total_units    4707 non-null   int64         \n",
      " 6   revenue        4707 non-null   float64       \n",
      " 7   product_name   4707 non-null   object        \n",
      " 8   category_name  4707 non-null   object        \n",
      " 9   brand_name     4707 non-null   object        \n",
      " 10  store_name     4707 non-null   object        \n",
      " 11  sales_rep      4707 non-null   object        \n",
      " 12  year           4707 non-null   int32         \n",
      "dtypes: datetime64[ns](1), float64(1), int32(1), int64(2), object(8)\n",
      "memory usage: 459.8+ KB\n"
     ]
    }
   ],
   "source": [
    "df[df.duplicated()]\n",
    "df.info()"
   ]
  },
  {
   "cell_type": "markdown",
   "metadata": {},
   "source": [
    "### Check missing values"
   ]
  },
  {
   "cell_type": "code",
   "execution_count": 123,
   "metadata": {},
   "outputs": [
    {
     "data": {
      "text/plain": [
       "order_id         0\n",
       "customers        0\n",
       "city             0\n",
       "state            0\n",
       "order_date       0\n",
       "total_units      0\n",
       "revenue          0\n",
       "product_name     0\n",
       "category_name    0\n",
       "brand_name       0\n",
       "store_name       0\n",
       "sales_rep        0\n",
       "year             0\n",
       "dtype: int64"
      ]
     },
     "execution_count": 123,
     "metadata": {},
     "output_type": "execute_result"
    }
   ],
   "source": [
    "df.isnull().sum()"
   ]
  },
  {
   "cell_type": "markdown",
   "metadata": {},
   "source": [
    "## EDA"
   ]
  },
  {
   "cell_type": "code",
   "execution_count": 124,
   "metadata": {},
   "outputs": [
    {
     "data": {
      "text/plain": [
       "Index(['order_id', 'customers', 'city', 'state', 'order_date', 'total_units',\n",
       "       'revenue', 'product_name', 'category_name', 'brand_name', 'store_name',\n",
       "       'sales_rep', 'year'],\n",
       "      dtype='object')"
      ]
     },
     "execution_count": 124,
     "metadata": {},
     "output_type": "execute_result"
    }
   ],
   "source": [
    "df.columns"
   ]
  },
  {
   "cell_type": "markdown",
   "metadata": {},
   "source": [
    "### The number of customer by state "
   ]
  },
  {
   "cell_type": "code",
   "execution_count": 125,
   "metadata": {},
   "outputs": [
    {
     "data": {
      "image/png": "[encoded data removed]",
      "text/plain": [
       "<Figure size 640x480 with 1 Axes>"
      ]
     },
     "metadata": {},
     "output_type": "display_data"
    }
   ],
   "source": [
    "sns.countplot(data=df, x='state', palette='pastel')\n",
    "plt.show()"
   ]
  },
  {
   "cell_type": "markdown",
   "metadata": {},
   "source": [
    "- Customers in the NY area are the largest."
   ]
  },
  {
   "cell_type": "markdown",
   "metadata": {},
   "source": [
    "### The average revenue of each store by year"
   ]
  },
  {
   "cell_type": "code",
   "execution_count": 126,
   "metadata": {},
   "outputs": [
    {
     "data": {
      "text/html": [
       "<div>\n",
       "<style scoped>\n",
       "    .dataframe tbody tr th:only-of-type {\n",
       "        vertical-align: middle;\n",
       "    }\n",
       "\n",
       "    .dataframe tbody tr th {\n",
       "        vertical-align: top;\n",
       "    }\n",
       "\n",
       "    .dataframe thead th {\n",
       "        text-align: right;\n",
       "    }\n",
       "</style>\n",
       "<table border=\"1\" class=\"dataframe\">\n",
       "  <thead>\n",
       "    <tr style=\"text-align: right;\">\n",
       "      <th></th>\n",
       "      <th>state</th>\n",
       "      <th>year</th>\n",
       "      <th>revenue</th>\n",
       "    </tr>\n",
       "  </thead>\n",
       "  <tbody>\n",
       "    <tr>\n",
       "      <th>0</th>\n",
       "      <td>CA</td>\n",
       "      <td>2016</td>\n",
       "      <td>1637.877786</td>\n",
       "    </tr>\n",
       "    <tr>\n",
       "      <th>1</th>\n",
       "      <td>CA</td>\n",
       "      <td>2017</td>\n",
       "      <td>1657.716711</td>\n",
       "    </tr>\n",
       "    <tr>\n",
       "      <th>2</th>\n",
       "      <td>CA</td>\n",
       "      <td>2018</td>\n",
       "      <td>2219.742845</td>\n",
       "    </tr>\n",
       "    <tr>\n",
       "      <th>3</th>\n",
       "      <td>NY</td>\n",
       "      <td>2016</td>\n",
       "      <td>1476.891940</td>\n",
       "    </tr>\n",
       "    <tr>\n",
       "      <th>4</th>\n",
       "      <td>NY</td>\n",
       "      <td>2017</td>\n",
       "      <td>1913.515436</td>\n",
       "    </tr>\n",
       "    <tr>\n",
       "      <th>5</th>\n",
       "      <td>NY</td>\n",
       "      <td>2018</td>\n",
       "      <td>2395.963315</td>\n",
       "    </tr>\n",
       "    <tr>\n",
       "      <th>6</th>\n",
       "      <td>TX</td>\n",
       "      <td>2016</td>\n",
       "      <td>1636.107760</td>\n",
       "    </tr>\n",
       "    <tr>\n",
       "      <th>7</th>\n",
       "      <td>TX</td>\n",
       "      <td>2017</td>\n",
       "      <td>1901.546414</td>\n",
       "    </tr>\n",
       "    <tr>\n",
       "      <th>8</th>\n",
       "      <td>TX</td>\n",
       "      <td>2018</td>\n",
       "      <td>2122.265600</td>\n",
       "    </tr>\n",
       "  </tbody>\n",
       "</table>\n",
       "</div>"
      ],
      "text/plain": [
       "  state  year      revenue\n",
       "0    CA  2016  1637.877786\n",
       "1    CA  2017  1657.716711\n",
       "2    CA  2018  2219.742845\n",
       "3    NY  2016  1476.891940\n",
       "4    NY  2017  1913.515436\n",
       "5    NY  2018  2395.963315\n",
       "6    TX  2016  1636.107760\n",
       "7    TX  2017  1901.546414\n",
       "8    TX  2018  2122.265600"
      ]
     },
     "execution_count": 126,
     "metadata": {},
     "output_type": "execute_result"
    }
   ],
   "source": [
    "avg_revenue = df.groupby(['state', 'year']).agg({'revenue': 'mean'}).reset_index()\n",
    "avg_revenue"
   ]
  },
  {
   "cell_type": "code",
   "execution_count": 127,
   "metadata": {},
   "outputs": [
    {
     "data": {
      "image/png": "[encoded data removed]",
      "text/plain": [
       "<Figure size 2000x1000 with 1 Axes>"
      ]
     },
     "metadata": {},
     "output_type": "display_data"
    }
   ],
   "source": [
    "plt.figure(figsize=(20,10))\n",
    "sns.lineplot(avg_revenue, x='year',y='revenue', hue='state', palette='pastel')\n",
    "plt.xticks(ticks=range(avg_revenue['year'].min(), avg_revenue['year'].max() + 1))\n",
    "plt.show()"
   ]
  },
  {
   "cell_type": "markdown",
   "metadata": {},
   "source": [
    "- The growth rate across all areas has increased, with the NY area experiencing the highest growth rate."
   ]
  },
  {
   "cell_type": "markdown",
   "metadata": {},
   "source": [
    "### Top 5 Customer"
   ]
  },
  {
   "cell_type": "code",
   "execution_count": 128,
   "metadata": {},
   "outputs": [
    {
     "data": {
      "text/html": [
       "<div>\n",
       "<style scoped>\n",
       "    .dataframe tbody tr th:only-of-type {\n",
       "        vertical-align: middle;\n",
       "    }\n",
       "\n",
       "    .dataframe tbody tr th {\n",
       "        vertical-align: top;\n",
       "    }\n",
       "\n",
       "    .dataframe thead th {\n",
       "        text-align: right;\n",
       "    }\n",
       "</style>\n",
       "<table border=\"1\" class=\"dataframe\">\n",
       "  <thead>\n",
       "    <tr style=\"text-align: right;\">\n",
       "      <th></th>\n",
       "      <th>customers</th>\n",
       "      <th>revenue</th>\n",
       "    </tr>\n",
       "  </thead>\n",
       "  <tbody>\n",
       "    <tr>\n",
       "      <th>535</th>\n",
       "      <td>Hae Ramirez</td>\n",
       "      <td>12999.98</td>\n",
       "    </tr>\n",
       "    <tr>\n",
       "      <th>457</th>\n",
       "      <td>Ester Acevedo</td>\n",
       "      <td>9999.98</td>\n",
       "    </tr>\n",
       "    <tr>\n",
       "      <th>930</th>\n",
       "      <td>Marilyn Frank</td>\n",
       "      <td>9999.98</td>\n",
       "    </tr>\n",
       "    <tr>\n",
       "      <th>870</th>\n",
       "      <td>Lorrie Pollard</td>\n",
       "      <td>7999.98</td>\n",
       "    </tr>\n",
       "    <tr>\n",
       "      <th>1144</th>\n",
       "      <td>Rona Rojas</td>\n",
       "      <td>7999.98</td>\n",
       "    </tr>\n",
       "  </tbody>\n",
       "</table>\n",
       "</div>"
      ],
      "text/plain": [
       "           customers   revenue\n",
       "535      Hae Ramirez  12999.98\n",
       "457    Ester Acevedo   9999.98\n",
       "930    Marilyn Frank   9999.98\n",
       "870   Lorrie Pollard   7999.98\n",
       "1144      Rona Rojas   7999.98"
      ]
     },
     "execution_count": 128,
     "metadata": {},
     "output_type": "execute_result"
    }
   ],
   "source": [
    "top_customer = df.groupby(['customers']).agg({'revenue': 'mean'}).reset_index()\n",
    "top_customer = top_customer.sort_values(by='revenue', ascending=False)\n",
    "top_customer.head(5)"
   ]
  },
  {
   "cell_type": "markdown",
   "metadata": {},
   "source": [
    "### Top 3 Sales rep"
   ]
  },
  {
   "cell_type": "code",
   "execution_count": 129,
   "metadata": {},
   "outputs": [
    {
     "data": {
      "text/html": [
       "<div>\n",
       "<style scoped>\n",
       "    .dataframe tbody tr th:only-of-type {\n",
       "        vertical-align: middle;\n",
       "    }\n",
       "\n",
       "    .dataframe tbody tr th {\n",
       "        vertical-align: top;\n",
       "    }\n",
       "\n",
       "    .dataframe thead th {\n",
       "        text-align: right;\n",
       "    }\n",
       "</style>\n",
       "<table border=\"1\" class=\"dataframe\">\n",
       "  <thead>\n",
       "    <tr style=\"text-align: right;\">\n",
       "      <th></th>\n",
       "      <th>sales_rep</th>\n",
       "      <th>revenue</th>\n",
       "    </tr>\n",
       "  </thead>\n",
       "  <tbody>\n",
       "    <tr>\n",
       "      <th>1</th>\n",
       "      <td>Kali Vargas</td>\n",
       "      <td>1926.847724</td>\n",
       "    </tr>\n",
       "    <tr>\n",
       "      <th>5</th>\n",
       "      <td>Venita Daniel</td>\n",
       "      <td>1832.478451</td>\n",
       "    </tr>\n",
       "    <tr>\n",
       "      <th>3</th>\n",
       "      <td>Marcelene Boyer</td>\n",
       "      <td>1825.692244</td>\n",
       "    </tr>\n",
       "    <tr>\n",
       "      <th>4</th>\n",
       "      <td>Mireya Copeland</td>\n",
       "      <td>1815.886486</td>\n",
       "    </tr>\n",
       "    <tr>\n",
       "      <th>2</th>\n",
       "      <td>Layla Terrell</td>\n",
       "      <td>1769.466627</td>\n",
       "    </tr>\n",
       "  </tbody>\n",
       "</table>\n",
       "</div>"
      ],
      "text/plain": [
       "         sales_rep      revenue\n",
       "1      Kali Vargas  1926.847724\n",
       "5    Venita Daniel  1832.478451\n",
       "3  Marcelene Boyer  1825.692244\n",
       "4  Mireya Copeland  1815.886486\n",
       "2    Layla Terrell  1769.466627"
      ]
     },
     "execution_count": 129,
     "metadata": {},
     "output_type": "execute_result"
    }
   ],
   "source": [
    "top_sales_rep = df.groupby(['sales_rep']).agg({'revenue': 'mean'}).reset_index()\n",
    "top_sales_rep = top_sales_rep.sort_values(by='revenue', ascending=False)\n",
    "top_sales_rep.head(5)"
   ]
  }
 ],
 "metadata": {
  "kernelspec": {
   "display_name": "Python 3",
   "language": "python",
   "name": "python3"
  },
  "language_info": {
   "codemirror_mode": {
    "name": "ipython",
    "version": 3
   },
   "file_extension": ".py",
   "mimetype": "text/x-python",
   "name": "python",
   "nbconvert_exporter": "python",
   "pygments_lexer": "ipython3",
   "version": "3.11.0"
  }
 },
 "nbformat": 4,
 "nbformat_minor": 2
}
